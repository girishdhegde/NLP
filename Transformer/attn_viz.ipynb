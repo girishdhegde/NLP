{
 "cells": [
  {
   "cell_type": "code",
   "execution_count": null,
   "metadata": {},
   "outputs": [],
   "source": [
    "from pathlib import Path\n",
    "\n",
    "import torch\n",
    "import numpy as np\n",
    "import matplotlib.pyplot as plt\n",
    "from matplotlib.font_manager import FontProperties\n",
    "from spacy.lang.en import English\n",
    "from spacy.lang.hi import Hindi\n",
    "\n",
    "from transformer import Transformer, MHA\n",
    "from utils import sample\n",
    "\n",
    "__author__ = \"__Girish_Hegde__\"\n",
    "\n"
   ]
  },
  {
   "cell_type": "code",
   "execution_count": null,
   "metadata": {},
   "outputs": [],
   "source": [
    "def attn_hook(module, input, output):\n",
    "    \"\"\" Forward hook\n",
    "\n",
    "    Refs:\n",
    "        https://www.youtube.com/watch?v=1ZbLA7ofasY\n",
    "    \"\"\"\n",
    "    _, attn = output  # [bs, h, i, j]\n",
    "    attn = attn.detach()\n",
    "    module.attn = attn"
   ]
  },
  {
   "cell_type": "code",
   "execution_count": null,
   "metadata": {},
   "outputs": [],
   "source": [
    "def attach_hook(net, starts_with='dec.cross_attn_layers', layers=[0, ], type=MHA):\n",
    "    layers = set(layers)\n",
    "    i = 0\n",
    "    net.attn_viz_layers = []\n",
    "    for name, module in net.named_modules():\n",
    "        if isinstance(module, type) and name.startswith(starts_with):\n",
    "            if i in layers:\n",
    "                net.attn_viz_layers.append(module)\n",
    "                module.name = name\n",
    "                module.attn = None\n",
    "                module.firing_hook = module.register_forward_hook(attn_hook)\n",
    "            i += 1"
   ]
  },
  {
   "cell_type": "code",
   "execution_count": null,
   "metadata": {},
   "outputs": [],
   "source": [
    "\n",
    "CKPT = Path('./data/eng_hindi/runs/best.pt')\n",
    "DEVICE = torch.device('cuda') if torch.cuda.is_available() else torch.device('cpu')\n",
    "\n",
    "ckpt = torch.load(CKPT, map_location=DEVICE)\n",
    "kwargs, state_dict = ckpt['net'].values()\n",
    "epoch, loss, best = ckpt['training'].values()\n",
    "in_int2tk, out_int2tk, start_token, end_token, pad_token, ukn_token = ckpt['dataset'].values()\n",
    "\n",
    "net = Transformer(**kwargs)\n",
    "net.load_state_dict(state_dict)\n",
    "net = net.to(DEVICE)\n",
    "tokenizer = English()"
   ]
  },
  {
   "cell_type": "code",
   "execution_count": null,
   "metadata": {},
   "outputs": [],
   "source": [
    "# attach_hook(net, starts_with='enc', layers=[0, 1, 2], type=MHA)\n",
    "# attach_hook(net, starts_with='dec.self_attn_layers', layers=[0, 1, 2], type=MHA)\n",
    "attach_hook(net, starts_with='dec.cross_attn_layers', layers=[0, 1, 2], type=MHA)"
   ]
  },
  {
   "cell_type": "code",
   "execution_count": null,
   "metadata": {},
   "outputs": [],
   "source": [
    "inp = \"The monkeys jump from branch to branch.\"\n",
    "pred = sample(\n",
    "    inp, net, tokenizer,\n",
    "    in_int2tk, out_int2tk,\n",
    "    start_token, end_token,\n",
    "    pad_token, ukn_token,\n",
    "    top_k=1, max_size=100,\n",
    "    device=DEVICE,\n",
    ")\n",
    "print(pred)"
   ]
  },
  {
   "cell_type": "code",
   "execution_count": null,
   "metadata": {},
   "outputs": [],
   "source": [
    "attn_table = net.attn_viz_layers[1].attn.cpu().numpy()"
   ]
  },
  {
   "cell_type": "code",
   "execution_count": null,
   "metadata": {},
   "outputs": [],
   "source": [
    "font_prop = FontProperties(fname='./data/devanagari.ttf', size=11)\n",
    "fig = plt.figure(figsize=(6, 6), constrained_layout=True)\n",
    "inp_tks = [str(tk) for tk in English()(inp)]\n",
    "pred_tks = [str(tk) for tk in Hindi()(pred)]\n",
    "for i in range(attn_table.shape[1]):\n",
    "    plt.imshow(attn_table[0, i, :-1, 1:-1], cmap='Reds')\n",
    "    plt.xticks(range(attn_table.shape[-1] - 2), inp_tks, rotation=20)\n",
    "    plt.yticks(range(attn_table.shape[-2] - 1), pred_tks, rotation=20, fontproperties=font_prop)\n",
    "    plt.show()\n"
   ]
  },
  {
   "cell_type": "code",
   "execution_count": null,
   "metadata": {},
   "outputs": [],
   "source": []
  }
 ],
 "metadata": {
  "kernelspec": {
   "display_name": "base",
   "language": "python",
   "name": "python3"
  },
  "language_info": {
   "codemirror_mode": {
    "name": "ipython",
    "version": 3
   },
   "file_extension": ".py",
   "mimetype": "text/x-python",
   "name": "python",
   "nbconvert_exporter": "python",
   "pygments_lexer": "ipython3",
   "version": "3.9.13"
  },
  "orig_nbformat": 4,
  "vscode": {
   "interpreter": {
    "hash": "1aeb5c148382abdf7746a28841638aa37ae120679997c520dadaeaf7419ce957"
   }
  }
 },
 "nbformat": 4,
 "nbformat_minor": 2
}
