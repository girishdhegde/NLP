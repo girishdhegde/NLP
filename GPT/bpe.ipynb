{
 "cells": [
  {
   "cell_type": "code",
   "execution_count": null,
   "metadata": {},
   "outputs": [],
   "source": [
    "\"\"\"\n",
    "Refs:\n",
    "    https://towardsdatascience.com/byte-pair-encoding-subword-based-tokenization-algorithm-77828a70bee0\n",
    "\"\"\"\n",
    "\n",
    "import numpy as np\n",
    "from spacy.lang.en import English\n",
    "\n",
    "\n",
    "__author__ = \"__Girish_Hegde__\""
   ]
  },
  {
   "cell_type": "code",
   "execution_count": null,
   "metadata": {},
   "outputs": [],
   "source": [
    "def get_token_freq(words):\n",
    "    tokens = dict()\n",
    "    for w, f in words.items():\n",
    "        for tk in w:\n",
    "            if tk not in tokens:\n",
    "                tokens[tk] = f\n",
    "            else:\n",
    "                tokens[tk] += f\n",
    "    return tokens\n",
    "# tokens = get_token_freq(words)\n",
    "# print(tokens)"
   ]
  },
  {
   "cell_type": "code",
   "execution_count": null,
   "metadata": {},
   "outputs": [],
   "source": [
    "def get_pairs(words):\n",
    "    pairs = dict()\n",
    "    split_pairs = dict()\n",
    "    for w, f in words.items():\n",
    "        prev = w[0]\n",
    "        for nxt in w[1:]:\n",
    "            if (prev + nxt) not in pairs:\n",
    "                pairs[prev + nxt] = f\n",
    "                split_pairs[(prev, nxt)] = f\n",
    "            else:\n",
    "                pairs[prev + nxt] += f\n",
    "                split_pairs[(prev, nxt)] += f\n",
    "            prev = nxt\n",
    "    return pairs, split_pairs\n",
    "# pairs, split_pairs = get_pairs(words)\n",
    "# pairs, split_pairs"
   ]
  },
  {
   "cell_type": "code",
   "execution_count": null,
   "metadata": {},
   "outputs": [],
   "source": [
    "def get_frequent(pairs, split_pairs):\n",
    "    max_pair, max_split = None, None\n",
    "    fmax = 0\n",
    "    for w, s, f in zip(pairs.keys(), split_pairs.keys(), pairs.values()):\n",
    "        if f > fmax:\n",
    "            fmax = f\n",
    "            max_pair = w\n",
    "            max_split = s\n",
    "    return max_pair, max_split, fmax\n",
    "# max_pair, max_split, fmax = get_frequent(pairs, split_pairs)\n",
    "# max_pair, max_split, fmax"
   ]
  },
  {
   "cell_type": "code",
   "execution_count": null,
   "metadata": {},
   "outputs": [],
   "source": [
    "def update_tokens(tokens, pair, split, f):\n",
    "    tokens[pair] = fmax\n",
    "    for tk in split:\n",
    "        if tokens[tk] == f:\n",
    "            tokens.pop(tk)\n",
    "        else:\n",
    "            tokens[tk] -= f\n",
    "    return tokens\n",
    "# tokens = update_tokens(tokens, max_pair, max_split, fmax)\n",
    "# tokens"
   ]
  },
  {
   "cell_type": "code",
   "execution_count": null,
   "metadata": {},
   "outputs": [],
   "source": [
    "def update_words(words, pair):\n",
    "    out = dict()\n",
    "    for w, f in words.items():\n",
    "        tmp, skip = [], False\n",
    "        for i, tk in enumerate(w[:-1]):\n",
    "            if skip:\n",
    "                skip = False\n",
    "                continue\n",
    "            if (tk + w[i + 1]) == pair:\n",
    "                tmp.append(pair)\n",
    "                skip = True\n",
    "            else:\n",
    "                tmp.append(tk)\n",
    "                skip = False\n",
    "        if not skip:\n",
    "            tmp.append(w[-1])\n",
    "        out[tuple(tmp)] = f\n",
    "    return out\n",
    "# words = update_words(words, max_pair)\n",
    "# words\n"
   ]
  },
  {
   "cell_type": "code",
   "execution_count": null,
   "metadata": {},
   "outputs": [],
   "source": [
    "words = {'old': 7, 'older': 3, 'finest': 9, 'lowest': 4}\n",
    "words = {'old': 1, 'older': 1, 'finest': 1, 'lowest': 1}"
   ]
  },
  {
   "cell_type": "code",
   "execution_count": null,
   "metadata": {},
   "outputs": [],
   "source": [
    "text = \"BPE ensures that the most common words are represented in the vocabulary as a single token while the rare words are broken down into two or more subword tokens and this is in agreement with what a subword-based tokenization algorithm does.\"\n",
    "tokenizer = English()\n",
    "words = [str(w) for w in tokenizer(text)]\n",
    "words = {w:words.count(w) for w in set(words)}\n",
    "words"
   ]
  },
  {
   "cell_type": "code",
   "execution_count": null,
   "metadata": {},
   "outputs": [],
   "source": [
    "tokens = get_token_freq(words)\n",
    "print(tokens)"
   ]
  },
  {
   "cell_type": "code",
   "execution_count": null,
   "metadata": {},
   "outputs": [],
   "source": [
    "total_words, max_itr = len(words), 50\n",
    "itr = 0\n",
    "while (itr < max_itr):\n",
    "    itr += 1\n",
    "    pairs, split_pairs = get_pairs(words)\n",
    "    max_pair, max_split, fmax = get_frequent(pairs, split_pairs)\n",
    "    tokens = update_tokens(tokens, max_pair, max_split, fmax)\n",
    "    words = update_words(words, max_pair)\n",
    "    print(f'{itr = }, n = {len(tokens)}, tokens = {tuple(tokens.keys())}')\n",
    "    # print(words)"
   ]
  }
 ],
 "metadata": {
  "kernelspec": {
   "display_name": "base",
   "language": "python",
   "name": "python3"
  },
  "language_info": {
   "codemirror_mode": {
    "name": "ipython",
    "version": 3
   },
   "file_extension": ".py",
   "mimetype": "text/x-python",
   "name": "python",
   "nbconvert_exporter": "python",
   "pygments_lexer": "ipython3",
   "version": "3.9.13 (main, Aug 25 2022, 23:51:50) [MSC v.1916 64 bit (AMD64)]"
  },
  "orig_nbformat": 4,
  "vscode": {
   "interpreter": {
    "hash": "1aeb5c148382abdf7746a28841638aa37ae120679997c520dadaeaf7419ce957"
   }
  }
 },
 "nbformat": 4,
 "nbformat_minor": 2
}
