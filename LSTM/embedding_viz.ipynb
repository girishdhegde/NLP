{
 "cells": [
  {
   "cell_type": "code",
   "execution_count": 21,
   "metadata": {},
   "outputs": [],
   "source": [
    "import shutil\n",
    "from pathlib import Path\n",
    "\n",
    "from IPython.display import HTML as html_print\n",
    "from IPython.display import display\n",
    "\n",
    "\n",
    "import numpy as np\n",
    "import torch\n",
    "import torch.nn as nn\n",
    "import torch.nn.functional as F\n",
    "from torch.utils.tensorboard import SummaryWriter\n",
    "\n",
    "from lstm import WordLSTM, LSTM, LSTMCell\n",
    "from data import WordTokenizer\n",
    "\n",
    "\n",
    "__author__ = '__Girish_Hegde__'"
   ]
  },
  {
   "cell_type": "code",
   "execution_count": 35,
   "metadata": {},
   "outputs": [],
   "source": [
    "CKPT = Path('./data/runs/best.pt')\n",
    "DEVICE = torch.device('cuda') if torch.cuda.is_available() else torch.device('cpu')\n",
    "TEXT = './data/datasets/corpus.txt'\n",
    "LOGDIR = './data/viz/embedding'\n",
    "\n",
    "ckpt = torch.load(CKPT, map_location=DEVICE)\n",
    "net = WordLSTM(ckpt['VOCAB_SIZE'], ckpt['EMBEDDING_DIM'], ckpt['HIDDEN_SIZE'], ckpt['NUM_LAYERS'])\n",
    "net.load_state_dict(ckpt['state_dict'])\n",
    "net = net.to(DEVICE)\n",
    "net.eval()\n",
    "embedder = net.emb\n",
    "\n",
    "int2token = ckpt['int2token']\n",
    "token2int = {tk: i for i, tk in int2token.items()}\n",
    "firing = []\n",
    "text = WordTokenizer.read(TEXT, encoding='utf-8')\n",
    "_, _, tokens = WordTokenizer.tokenize(text, lowercase=True)\n",
    "tokens = [tk for tk in tokens  if tk in token2int]"
   ]
  },
  {
   "cell_type": "code",
   "execution_count": 36,
   "metadata": {},
   "outputs": [],
   "source": [
    "enc = torch.tensor([token2int[tk] for tk in tokens], dtype=torch.int64, device=DEVICE)\n",
    "emb = embedder(enc).detach()"
   ]
  },
  {
   "cell_type": "code",
   "execution_count": 39,
   "metadata": {},
   "outputs": [],
   "source": [
    "if Path(LOGDIR).exists(): \n",
    "    shutil.rmtree(LOGDIR)\n",
    "writer = SummaryWriter(LOGDIR)\n"
   ]
  },
  {
   "cell_type": "code",
   "execution_count": 40,
   "metadata": {},
   "outputs": [],
   "source": [
    "writer.add_embedding(emb, metadata=tokens)\n",
    "writer.close()"
   ]
  }
 ],
 "metadata": {
  "kernelspec": {
   "display_name": "Python 3.9.12 ('base')",
   "language": "python",
   "name": "python3"
  },
  "language_info": {
   "codemirror_mode": {
    "name": "ipython",
    "version": 3
   },
   "file_extension": ".py",
   "mimetype": "text/x-python",
   "name": "python",
   "nbconvert_exporter": "python",
   "pygments_lexer": "ipython3",
   "version": "3.9.12"
  },
  "orig_nbformat": 4,
  "vscode": {
   "interpreter": {
    "hash": "0de187c9fa8dfa3c3f76f6436a7cfb7ae0dd2395cce8037080e53585a844224c"
   }
  }
 },
 "nbformat": 4,
 "nbformat_minor": 2
}
